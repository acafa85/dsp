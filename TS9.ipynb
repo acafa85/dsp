{
 "cells": [
  {
   "cell_type": "markdown",
   "id": "c901b8b7",
   "metadata": {},
   "source": [
    "# Procesamiento Digital de Señales <img src=\"./logo_UTN.svg\" align=\"right\" width=\"150\"/>\n",
    "## Alumno: Adrián Pablo Cafa\n",
    "### Tarea Semanal: 9"
   ]
  },
  {
   "cell_type": "code",
   "execution_count": null,
   "id": "b469fc8a",
   "metadata": {},
   "outputs": [],
   "source": [
    "# import warnings\n",
    "# warnings.filterwarnings('ignore')\n",
    "\n",
    "\n",
    "import numpy as np\n",
    "import matplotlib.pyplot as plt\n",
    "import scipy as sp\n",
    "import scipy.interpolate\n",
    "import scipy.signal as sig\n",
    "import scipy.io as sio\n",
    "from scipy.fft import fft, fftshift\n",
    "import matplotlib.patches as mpatches\n",
    "from pandas import DataFrame\n",
    "from IPython.display import HTML\n",
    "from scipy.stats import norm\n",
    "\n",
    "width=15\n",
    "height=5\n",
    "plt.rcParams['figure.figsize'] = [width, height]"
   ]
  },
  {
   "cell_type": "code",
   "execution_count": null,
   "id": "fdc526df",
   "metadata": {},
   "outputs": [],
   "source": [
    "plt.close('all')\n",
    "\n",
    "mat_struct= sio.loadmat('ecg.mat')\n",
    "\n",
    "fs= 1000 #Hz\n",
    "figura=0\n",
    "\n",
    "ecg= mat_struct['ecg_lead']\n",
    "\n",
    "qrs_detections = mat_struct['qrs_detections']\n",
    "\n",
    "patron_normal= mat_struct['heartbeat_pattern1']\n",
    "\n",
    "patron_ventricular= mat_struct['heartbeat_pattern2']\n",
    "\n",
    "N=len(ecg)\n",
    "\n",
    "muestras_tot=np.arange(0,N,1)\n",
    "\n",
    "\n",
    "##Delta muestras por debajo del pico\n",
    "d_muestras1=200\n",
    "##Delta muestras por arriba del pico\n",
    "d_muestras2=300\n",
    "\n",
    "ventana_temporal=np.arange(0,d_muestras1+d_muestras2,1)"
   ]
  },
  {
   "cell_type": "code",
   "execution_count": null,
   "id": "b5c09044",
   "metadata": {},
   "outputs": [],
   "source": [
    "#preparo el ecg para trabajar\n",
    "latidos_matrix= [ (ecg[int(i-d_muestras1):int(i+d_muestras2)]) for i in qrs_detections ]\n",
    "array_latidos=np.hstack(latidos_matrix)\n",
    "# resto la media de los latidos para sincronizar todos los latidos\n",
    "array_latidos=array_latidos - np.mean(array_latidos,axis=0)"
   ]
  },
  {
   "cell_type": "code",
   "execution_count": null,
   "id": "019d03ba",
   "metadata": {},
   "outputs": [],
   "source": [
    "plt.figure(figura)\n",
    "figura+=1\n",
    "plt.plot(ventana_temporal, array_latidos)\n",
    "plt.title('Latidos del ecg')\n",
    "plt.xlabel('Tiempo (ms)')\n",
    "plt.ylabel('Amplitud')"
   ]
  },
  {
   "cell_type": "code",
   "execution_count": null,
   "id": "053a41b1",
   "metadata": {},
   "outputs": [],
   "source": [
    "#Busco separar los latidos ventriculares y los latidos normales en 2 grupos\n",
    "maximos = array_latidos[200,:]\n",
    "minimos = array_latidos[350,:]\n",
    "\n",
    "#Es pico si supera\n",
    "pico = 15000\n",
    "#Es valle si cae por debajo\n",
    "valle = -2000\n",
    "\n",
    "indice_normales = np.bitwise_and(maximos < pico, minimos > valle)\n",
    "##Todas las qrs detections que no cayeron en mi agrupacion anterior\n",
    "indice_ventriculares = ~indice_normales\n",
    "\n",
    "\n",
    "latidos_norm = array_latidos[:,indice_normales]\n",
    "latidos_vent = array_latidos[:,indice_ventriculares]\n",
    "normal_medio = np.mean(latidos_norm , axis=1)\n",
    "ventricular_medio = np.mean(latidos_vent , axis=1)\n",
    "\n",
    "plt.figure(figura)\n",
    "figura+=1\n",
    "plt.plot(latidos_vent/np.amax(array_latidos), 'b')\n",
    "plt.plot(latidos_norm/np.amax(array_latidos), 'g')\n",
    "plt.plot(ventricular_medio/np.amax(array_latidos), '--m',lw=2)\n",
    "plt.plot(normal_medio/np.amax(array_latidos), '--r',lw=2)\n",
    "plt.title('Tipos de latidos')\n",
    "plt.xlabel('Tiempo (ms)')\n",
    "plt.ylabel('Amplitud normalizada')\n"
   ]
  },
  {
   "cell_type": "markdown",
   "id": "309f0399",
   "metadata": {},
   "source": [
    "# Por consigna:\n",
    "Trabajamos sobre los primeros 50 latidos que son los mas limpios para hacer un analisis espectral"
   ]
  },
  {
   "cell_type": "code",
   "execution_count": null,
   "id": "a758a76b",
   "metadata": {},
   "outputs": [],
   "source": [
    "cantidad=50\n",
    "##Levnato 50 de cada tipo de latido\n",
    "primeros_vent = latidos_vent[:,0:cantidad]\n",
    "primeros_norm = latidos_norm[:,0:cantidad]\n",
    "\n",
    "vent_prom = np.mean(primeros_vent, axis=1)\n",
    "norm_prom = np.mean(primeros_norm, axis=1)\n",
    "\n",
    "plt.figure(figura)\n",
    "figura+=1\n",
    "plt.plot(primeros_vent/np.amax(array_latidos), 'b')\n",
    "plt.plot(primeros_norm/np.amax(array_latidos), 'g')\n",
    "plt.plot(vent_prom/np.amax(array_latidos), '--m',lw=2)\n",
    "plt.plot(norm_prom/np.amax(array_latidos), '--r',lw=2)\n",
    "plt.title('{:1.0f} latidos del registro'.format(cantidad))\n",
    "plt.xlabel('Tiempo (ms)')\n",
    "plt.ylabel('Amplitud normalizada')"
   ]
  },
  {
   "cell_type": "code",
   "execution_count": null,
   "id": "702eae1c",
   "metadata": {
    "scrolled": true
   },
   "outputs": [],
   "source": [
    "##Padeo con 0 y aplico welch para calcular el espectro\n",
    "#Padeo a ambos lados\n",
    "Padeo=1000\n",
    "primeros_vent_padded=np.pad(primeros_vent, (Padeo, Padeo), 'constant', constant_values=(0, 0))\n",
    "primeros_norm_padded=np.pad(primeros_norm, (Padeo, Padeo), 'constant', constant_values=(0, 0))\n",
    "\n",
    "N_padded = len(primeros_vent_padded)\n",
    "fw_v, Pw_v = sig.welch(primeros_vent_padded, fs, nperseg = N_padded, axis=0)\n",
    "fw_n, Pw_n = sig.welch(primeros_norm_padded, fs, nperseg = N_padded, axis=0)\n",
    "\n",
    "#Normalizo por potencia maxima que deberia ser ventricular\n",
    "norm1 = np.amax(Pw_v)\n",
    "\n",
    "Pw_v_prom = np.mean(Pw_v,axis=1)\n",
    "Pw_n_prom = np.mean(Pw_n,axis=1)\n",
    "\n",
    "norm2= np.amax(Pw_v_prom)\n",
    "plt.figure(figura)\n",
    "figura+=1\n",
    "plt.plot(fw_v,Pw_v/norm1, 'b')\n",
    "plt.plot(fw_n,Pw_n/norm1, 'g')\n",
    "plt.title('Espectro latidos')\n",
    "plt.xlabel('Frecuencia [Hz]')\n",
    "plt.ylabel('PSD [$V^{2}/Hz$]')\n",
    "plt.xlim(0,20)\n",
    "\n",
    "plt.figure(figura)\n",
    "figura+=1\n",
    "\n",
    "plt.plot(fw_v,Pw_v_prom/norm2, '--c',lw=2)\n",
    "plt.plot(fw_n,Pw_n_prom/norm2, '--r',lw=2)\n",
    "plt.title('Espectro promedio')\n",
    "plt.xlabel('Frecuencia [Hz]')\n",
    "plt.ylabel('PSD [$V^{2}/Hz$]')\n",
    "plt.xlim(0,20)"
   ]
  },
  {
   "cell_type": "markdown",
   "id": "adf8d686",
   "metadata": {},
   "source": [
    "# Calculo del ancho de banda de las señales:\n",
    "Utilizo mis dos espectros promedio ya que no poseen el ruido que puede haber de muestra a muestra."
   ]
  },
  {
   "cell_type": "code",
   "execution_count": null,
   "id": "14dd522a",
   "metadata": {},
   "outputs": [],
   "source": [
    "#Propongo un porcentaje del total de la energia bajo la curva del PSD\n",
    "percent = 0.99\n",
    "\n",
    "#Integro y normalizo respecto del total de la energia bajo al curva\n",
    "Pot_n = np.cumsum(Pw_n_prom)/np.sum(Pw_n_prom)\n",
    "corte_n = np.where(Pot_n >percent)[0][0]\n",
    "#Integro y normalizo respecto del total de la energia bajo al curva\n",
    "Pot_v = np.cumsum(Pw_v_prom)/np.sum(Pw_v_prom)\n",
    "corte_v = np.where(Pot_v >percent)[0][0]\n",
    "\n",
    "plt.figure(figura)\n",
    "figura+=1\n",
    "plt.plot(fw_n,Pw_n_prom/norm, 'k')\n",
    "plt.fill_between(fw_n, 0, Pw_n_prom/norm, where = fw_v < fw_v[corte_n], color='green')\n",
    "plt.title('Ancho de banda normales')\n",
    "plt.xlabel('Frecuencia [Hz]')\n",
    "plt.ylabel('PSD [$V^{2}/Hz$]')\n",
    "plt.xlim(0,50)\n",
    "\n",
    "plt.annotate(   \"BW_n = {:3.1f} Hz\".format(fw_n[corte_n]),\n",
    "                xy=(fw_n[corte_n], Pw_n_prom[corte_n]/norm),\n",
    "                xytext=(-20,20),\n",
    "                textcoords=\"offset points\",\n",
    "                bbox=dict(boxstyle=\"round\", fc=\"w\"),\n",
    "                arrowprops=dict(arrowstyle='->')\n",
    ")\n",
    "\n",
    "plt.figure(figura)\n",
    "figura+=1\n",
    "plt.plot(fw_v,Pw_v_prom/norm, 'k')\n",
    "plt.fill_between(fw_n, 0, Pw_v_prom/norm, where = fw_v < fw_v[corte_v], color='blue')\n",
    "plt.title('Ancho de banda ventriculares')\n",
    "plt.xlabel('Frecuencia [Hz]')\n",
    "plt.ylabel('PSD [$V^{2}/Hz$]')\n",
    "plt.xlim(0,50)\n",
    "\n",
    "plt.annotate(   \"BW_n = {:3.1f} Hz\".format(fw_v[corte_v]),\n",
    "                xy=(fw_v[corte_v], Pw_v_prom[corte_v]/norm),\n",
    "                xytext=(-20,20),\n",
    "                textcoords=\"offset points\",\n",
    "                bbox=dict(boxstyle=\"round\", fc=\"w\"),\n",
    "                arrowprops=dict(arrowstyle='->')\n",
    ")"
   ]
  },
  {
   "cell_type": "markdown",
   "id": "fe2f45b0",
   "metadata": {},
   "source": [
    "# Conclusion\n",
    "Con las herramientas que nos fueron proporcionadas a lo largo del curso pudimos levantar todas las muestras de un ECG, a partir de esta informacion y las detecciones pudimos observar el rango de muestras en el cual se desarrollan los latidos.<br>\n",
    "Una vez detectados los latidos los trabajamos para tratar de visualizarlos correctamente quitandole por ejemplo el nivel de continua y separarlos segun sus caracteristicas morfologicas.<br>\n",
    "Caracteristicas como por ejemplo que los latidos ventriculares no tienen un valle acentuado como si lo tienen los latidos normales.<br>\n",
    "Luego utilizando el periodograma de Welch podemos visualizar sus lobulos principales, es decir para que frecuencias hay mas energia e integrando la energia bajo las curvas podemos determinar el ancho de banda que utiliza cada tipo de latido.<br>"
   ]
  },
  {
   "cell_type": "code",
   "execution_count": 7,
   "id": "bd0ef848",
   "metadata": {},
   "outputs": [
    {
     "name": "stdout",
     "output_type": "stream",
     "text": [
      "\n",
      "Haciendo ping a 8.8.8.8 con 1000 bytes de datos:\n",
      "Respuesta desde 8.8.8.8: bytes=68 (enviados 1000) tiempo=17ms TTL=115\n",
      "\n",
      "Estad¡sticas de ping para 8.8.8.8:\n",
      "    Paquetes: enviados = 1, recibidos = 1, perdidos = 0\n",
      "    (0% perdidos),\n",
      "Tiempos aproximados de ida y vuelta en milisegundos:\n",
      "    M¡nimo = 17ms, M ximo = 17ms, Media = 17ms\n"
     ]
    }
   ],
   "source": [
    "!ping -n 1 -l 1000 8.8.8.8"
   ]
  },
  {
   "cell_type": "code",
   "execution_count": 9,
   "id": "067c62a6",
   "metadata": {},
   "outputs": [
    {
     "ename": "SyntaxError",
     "evalue": "invalid syntax (<string>, line 7)",
     "output_type": "error",
     "traceback": [
      "Traceback \u001b[1;36m(most recent call last)\u001b[0m:\n",
      "  File \u001b[0;32m\"C:\\Anaconda3\\envs\\gibio\\lib\\site-packages\\IPython\\core\\interactiveshell.py\"\u001b[0m, line \u001b[0;32m3441\u001b[0m, in \u001b[0;35mrun_code\u001b[0m\n    exec(code_obj, self.user_global_ns, self.user_ns)\n",
      "\u001b[1;36m  File \u001b[1;32m\"<ipython-input-9-fd107e295049>\"\u001b[1;36m, line \u001b[1;32m1\u001b[1;36m, in \u001b[1;35m<module>\u001b[1;36m\u001b[0m\n\u001b[1;33m    exec(open(\"ping.py\").read())\u001b[0m\n",
      "\u001b[1;36m  File \u001b[1;32m\"<string>\"\u001b[1;36m, line \u001b[1;32m7\u001b[0m\n\u001b[1;33m    <!DOCTYPE html>\u001b[0m\n\u001b[1;37m    ^\u001b[0m\n\u001b[1;31mSyntaxError\u001b[0m\u001b[1;31m:\u001b[0m invalid syntax\n"
     ]
    }
   ],
   "source": [
    "exec(open(\"ping.py\").read())"
   ]
  },
  {
   "cell_type": "code",
   "execution_count": 18,
   "id": "375d10d4",
   "metadata": {},
   "outputs": [
    {
     "name": "stdout",
     "output_type": "stream",
     "text": [
      "ping google.com...\n"
     ]
    },
    {
     "ename": "OSError",
     "evalue": "[WinError 10043] No se ha configurado el protocolo solicitado en el sistema o no existe una implementación del mismo",
     "output_type": "error",
     "traceback": [
      "\u001b[1;31m---------------------------------------------------------------------------\u001b[0m",
      "\u001b[1;31mOSError\u001b[0m                                   Traceback (most recent call last)",
      "\u001b[1;32mC:\\DSP\\dsp\\ping.py\u001b[0m in \u001b[0;36m<module>\u001b[1;34m\u001b[0m\n\u001b[0;32m    361\u001b[0m \u001b[1;32mif\u001b[0m \u001b[0m__name__\u001b[0m \u001b[1;33m==\u001b[0m \u001b[1;34m'__main__'\u001b[0m\u001b[1;33m:\u001b[0m\u001b[1;33m\u001b[0m\u001b[1;33m\u001b[0m\u001b[0m\n\u001b[0;32m    362\u001b[0m     \u001b[1;31m# Testing\u001b[0m\u001b[1;33m\u001b[0m\u001b[1;33m\u001b[0m\u001b[1;33m\u001b[0m\u001b[0m\n\u001b[1;32m--> 363\u001b[1;33m     \u001b[0mverbose_ping\u001b[0m\u001b[1;33m(\u001b[0m\u001b[1;34m'google.com'\u001b[0m\u001b[1;33m)\u001b[0m\u001b[1;33m\u001b[0m\u001b[1;33m\u001b[0m\u001b[0m\n\u001b[0m\u001b[0;32m    364\u001b[0m     \u001b[0mverbose_ping\u001b[0m\u001b[1;33m(\u001b[0m\u001b[1;34m'an-invalid-test-url.com'\u001b[0m\u001b[1;33m)\u001b[0m\u001b[1;33m\u001b[0m\u001b[1;33m\u001b[0m\u001b[0m\n\u001b[0;32m    365\u001b[0m     \u001b[0mverbose_ping\u001b[0m\u001b[1;33m(\u001b[0m\u001b[1;34m'127.0.0.1'\u001b[0m\u001b[1;33m)\u001b[0m\u001b[1;33m\u001b[0m\u001b[1;33m\u001b[0m\u001b[0m\n",
      "\u001b[1;32mC:\\DSP\\dsp\\ping.py\u001b[0m in \u001b[0;36mverbose_ping\u001b[1;34m(dest_addr, timeout, count)\u001b[0m\n\u001b[0;32m    208\u001b[0m     \u001b[1;32mfor\u001b[0m \u001b[0mi\u001b[0m \u001b[1;32min\u001b[0m \u001b[0mrange\u001b[0m\u001b[1;33m(\u001b[0m\u001b[0mcount\u001b[0m\u001b[1;33m)\u001b[0m\u001b[1;33m:\u001b[0m\u001b[1;33m\u001b[0m\u001b[1;33m\u001b[0m\u001b[0m\n\u001b[0;32m    209\u001b[0m         \u001b[0mprint\u001b[0m\u001b[1;33m(\u001b[0m\u001b[1;34m'ping {}...'\u001b[0m\u001b[1;33m.\u001b[0m\u001b[0mformat\u001b[0m\u001b[1;33m(\u001b[0m\u001b[0mdest_addr\u001b[0m\u001b[1;33m)\u001b[0m\u001b[1;33m)\u001b[0m\u001b[1;33m\u001b[0m\u001b[1;33m\u001b[0m\u001b[0m\n\u001b[1;32m--> 210\u001b[1;33m         \u001b[0mdelay\u001b[0m \u001b[1;33m=\u001b[0m \u001b[0mdo_one\u001b[0m\u001b[1;33m(\u001b[0m\u001b[0mdest_addr\u001b[0m\u001b[1;33m,\u001b[0m \u001b[0mtimeout\u001b[0m\u001b[1;33m)\u001b[0m\u001b[1;33m\u001b[0m\u001b[1;33m\u001b[0m\u001b[0m\n\u001b[0m\u001b[0;32m    211\u001b[0m         \u001b[1;32mif\u001b[0m \u001b[0mdelay\u001b[0m \u001b[1;33m==\u001b[0m \u001b[1;32mNone\u001b[0m\u001b[1;33m:\u001b[0m\u001b[1;33m\u001b[0m\u001b[1;33m\u001b[0m\u001b[0m\n\u001b[0;32m    212\u001b[0m             \u001b[0mprint\u001b[0m\u001b[1;33m(\u001b[0m\u001b[1;34m'failed. (Timeout within {} seconds.)'\u001b[0m\u001b[1;33m.\u001b[0m\u001b[0mformat\u001b[0m\u001b[1;33m(\u001b[0m\u001b[0mtimeout\u001b[0m\u001b[1;33m)\u001b[0m\u001b[1;33m)\u001b[0m\u001b[1;33m\u001b[0m\u001b[1;33m\u001b[0m\u001b[0m\n",
      "\u001b[1;32mC:\\DSP\\dsp\\ping.py\u001b[0m in \u001b[0;36mdo_one\u001b[1;34m(dest_addr, timeout)\u001b[0m\n\u001b[0;32m    151\u001b[0m     \u001b[1;32mtry\u001b[0m\u001b[1;33m:\u001b[0m\u001b[1;33m\u001b[0m\u001b[1;33m\u001b[0m\u001b[0m\n\u001b[0;32m    152\u001b[0m         \u001b[1;31m# my_socket = socket.socket(socket.AF_INET, socket.SOCK_RAW, ICMP_CODE)\u001b[0m\u001b[1;33m\u001b[0m\u001b[1;33m\u001b[0m\u001b[1;33m\u001b[0m\u001b[0m\n\u001b[1;32m--> 153\u001b[1;33m         \u001b[0mmy_socket\u001b[0m \u001b[1;33m=\u001b[0m \u001b[0msocket\u001b[0m\u001b[1;33m.\u001b[0m\u001b[0msocket\u001b[0m\u001b[1;33m(\u001b[0m\u001b[0msocket\u001b[0m\u001b[1;33m.\u001b[0m\u001b[0mAF_INET\u001b[0m\u001b[1;33m,\u001b[0m \u001b[0msocket\u001b[0m\u001b[1;33m.\u001b[0m\u001b[0mSOCK_DGRAM\u001b[0m\u001b[1;33m,\u001b[0m \u001b[0msocket\u001b[0m\u001b[1;33m.\u001b[0m\u001b[0mIPPROTO_ICMP\u001b[0m\u001b[1;33m)\u001b[0m\u001b[1;33m\u001b[0m\u001b[1;33m\u001b[0m\u001b[0m\n\u001b[0m\u001b[0;32m    154\u001b[0m     \u001b[1;32mexcept\u001b[0m \u001b[0msocket\u001b[0m\u001b[1;33m.\u001b[0m\u001b[0merror\u001b[0m \u001b[1;32mas\u001b[0m \u001b[0me\u001b[0m\u001b[1;33m:\u001b[0m\u001b[1;33m\u001b[0m\u001b[1;33m\u001b[0m\u001b[0m\n\u001b[0;32m    155\u001b[0m         \u001b[1;32mif\u001b[0m \u001b[0me\u001b[0m\u001b[1;33m.\u001b[0m\u001b[0merrno\u001b[0m \u001b[1;32min\u001b[0m \u001b[0mERROR_DESCR\u001b[0m\u001b[1;33m:\u001b[0m\u001b[1;33m\u001b[0m\u001b[1;33m\u001b[0m\u001b[0m\n",
      "\u001b[1;32mC:\\Anaconda3\\envs\\gibio\\lib\\socket.py\u001b[0m in \u001b[0;36m__init__\u001b[1;34m(self, family, type, proto, fileno)\u001b[0m\n\u001b[0;32m    229\u001b[0m             \u001b[1;32mif\u001b[0m \u001b[0mproto\u001b[0m \u001b[1;33m==\u001b[0m \u001b[1;33m-\u001b[0m\u001b[1;36m1\u001b[0m\u001b[1;33m:\u001b[0m\u001b[1;33m\u001b[0m\u001b[1;33m\u001b[0m\u001b[0m\n\u001b[0;32m    230\u001b[0m                 \u001b[0mproto\u001b[0m \u001b[1;33m=\u001b[0m \u001b[1;36m0\u001b[0m\u001b[1;33m\u001b[0m\u001b[1;33m\u001b[0m\u001b[0m\n\u001b[1;32m--> 231\u001b[1;33m         \u001b[0m_socket\u001b[0m\u001b[1;33m.\u001b[0m\u001b[0msocket\u001b[0m\u001b[1;33m.\u001b[0m\u001b[0m__init__\u001b[0m\u001b[1;33m(\u001b[0m\u001b[0mself\u001b[0m\u001b[1;33m,\u001b[0m \u001b[0mfamily\u001b[0m\u001b[1;33m,\u001b[0m \u001b[0mtype\u001b[0m\u001b[1;33m,\u001b[0m \u001b[0mproto\u001b[0m\u001b[1;33m,\u001b[0m \u001b[0mfileno\u001b[0m\u001b[1;33m)\u001b[0m\u001b[1;33m\u001b[0m\u001b[1;33m\u001b[0m\u001b[0m\n\u001b[0m\u001b[0;32m    232\u001b[0m         \u001b[0mself\u001b[0m\u001b[1;33m.\u001b[0m\u001b[0m_io_refs\u001b[0m \u001b[1;33m=\u001b[0m \u001b[1;36m0\u001b[0m\u001b[1;33m\u001b[0m\u001b[1;33m\u001b[0m\u001b[0m\n\u001b[0;32m    233\u001b[0m         \u001b[0mself\u001b[0m\u001b[1;33m.\u001b[0m\u001b[0m_closed\u001b[0m \u001b[1;33m=\u001b[0m \u001b[1;32mFalse\u001b[0m\u001b[1;33m\u001b[0m\u001b[1;33m\u001b[0m\u001b[0m\n",
      "\u001b[1;31mOSError\u001b[0m: [WinError 10043] No se ha configurado el protocolo solicitado en el sistema o no existe una implementación del mismo"
     ]
    }
   ],
   "source": [
    "import os\n",
    "import socket\n",
    "%run ping.py"
   ]
  },
  {
   "cell_type": "code",
   "execution_count": 19,
   "id": "fa54f88b",
   "metadata": {},
   "outputs": [
    {
     "name": "stdout",
     "output_type": "stream",
     "text": [
      "Collecting icmplib\n",
      "  Downloading icmplib-3.0.2-py3-none-any.whl (30 kB)\n",
      "Installing collected packages: icmplib\n",
      "Successfully installed icmplib-3.0.2\n"
     ]
    }
   ],
   "source": [
    "!pip install icmplib"
   ]
  },
  {
   "cell_type": "code",
   "execution_count": 21,
   "id": "f2bf93ca",
   "metadata": {},
   "outputs": [],
   "source": [
    "from icmplib import ping\n",
    "host = ping('8.8.8.8', count=10, interval=0.2)"
   ]
  },
  {
   "cell_type": "code",
   "execution_count": 22,
   "id": "270da790",
   "metadata": {},
   "outputs": [
    {
     "data": {
      "text/plain": [
       "16.787"
      ]
     },
     "execution_count": 22,
     "metadata": {},
     "output_type": "execute_result"
    }
   ],
   "source": [
    "host.avg_rtt"
   ]
  },
  {
   "cell_type": "code",
   "execution_count": null,
   "id": "f5b33b93",
   "metadata": {},
   "outputs": [],
   "source": []
  }
 ],
 "metadata": {
  "kernelspec": {
   "display_name": "Python 3",
   "language": "python",
   "name": "python3"
  },
  "language_info": {
   "codemirror_mode": {
    "name": "ipython",
    "version": 3
   },
   "file_extension": ".py",
   "mimetype": "text/x-python",
   "name": "python",
   "nbconvert_exporter": "python",
   "pygments_lexer": "ipython3",
   "version": "3.8.6"
  },
  "varInspector": {
   "cols": {
    "lenName": 16,
    "lenType": 16,
    "lenVar": 40
   },
   "kernels_config": {
    "python": {
     "delete_cmd_postfix": "",
     "delete_cmd_prefix": "del ",
     "library": "var_list.py",
     "varRefreshCmd": "print(var_dic_list())"
    },
    "r": {
     "delete_cmd_postfix": ") ",
     "delete_cmd_prefix": "rm(",
     "library": "var_list.r",
     "varRefreshCmd": "cat(var_dic_list()) "
    }
   },
   "types_to_exclude": [
    "module",
    "function",
    "builtin_function_or_method",
    "instance",
    "_Feature"
   ],
   "window_display": false
  }
 },
 "nbformat": 4,
 "nbformat_minor": 5
}
